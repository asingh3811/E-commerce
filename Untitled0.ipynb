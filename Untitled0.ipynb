{
  "cells": [
    {
      "cell_type": "markdown",
      "metadata": {
        "id": "view-in-github",
        "colab_type": "text"
      },
      "source": [
        "<a href=\"https://colab.research.google.com/github/asingh3811/E-commerce/blob/main/Untitled0.ipynb\" target=\"_parent\"><img src=\"https://colab.research.google.com/assets/colab-badge.svg\" alt=\"Open In Colab\"/></a>"
      ]
    },
    {
      "cell_type": "code",
      "execution_count": null,
      "metadata": {
        "id": "Etaj7DEqi-L0"
      },
      "outputs": [],
      "source": [
        "import pandas as pd\n",
        "import xlwt\n",
        "from xlwt.Workbook import *\n",
        "from pandas import ExcelWriter\n",
        "import xlsxwriter"
      ]
    },
    {
      "cell_type": "code",
      "execution_count": null,
      "metadata": {
        "colab": {
          "base_uri": "https://localhost:8080/"
        },
        "id": "9Io7a4aDjUnH",
        "outputId": "1a23a2bf-bf16-4a51-bdee-a73ed749b7f2"
      },
      "outputs": [
        {
          "output_type": "stream",
          "name": "stdout",
          "text": [
            "Order Report:\n",
            "   ExternOrderNo            SKU  Order Qty Payment Mode  Item Price(Per Qty.)\n",
            "0     2001827036  8904223818706          1          COD                   233\n",
            "1     2001827036  8904223819093          1          COD                   233\n",
            "2     2001827036  8904223819109          1          COD                   233\n",
            "3     2001827036  8904223818430          1          COD                   470\n",
            "4     2001827036  8904223819277          1          COD                   233\n",
            "\n",
            "SKU Master:\n",
            "             SKU  Weight (g)\n",
            "0  8904223815682         210\n",
            "1  8904223815859         165\n",
            "2  8904223815866         113\n",
            "3  8904223815873          65\n",
            "4  8904223816214         120\n",
            "\n",
            "Pincode Mapping:\n",
            "   Warehouse Pincode  Customer Pincode Zone\n",
            "0             121003            507101    d\n",
            "1             121003            486886    d\n",
            "2             121003            532484    d\n",
            "3             121003            143001    b\n",
            "4             121003            515591    d\n",
            "\n",
            "Courier Invoice:\n",
            "        AWB Code    Order ID  Charged Weight  Warehouse Pincode  \\\n",
            "0  1091117222124  2001806232            1.30             121003   \n",
            "1  1091117222194  2001806273            1.00             121003   \n",
            "2  1091117222931  2001806408            2.50             121003   \n",
            "3  1091117223244  2001806458            1.00             121003   \n",
            "4  1091117229345  2001807012            0.15             121003   \n",
            "\n",
            "   Customer Pincode Zone Type of Shipment  Billing Amount (Rs.)  \n",
            "0            507101    d  Forward charges                 140.0  \n",
            "1            486886    d  Forward charges                 101.2  \n",
            "2            532484    d  Forward charges                 224.6  \n",
            "3            143001    b  Forward charges                  61.3  \n",
            "4            515591    d  Forward charges                  45.4  \n",
            "\n",
            "Courier Company rates:\n",
            "  Zone  Weight Slabs  Forward Fixed Charge  \\\n",
            "0    A          0.25                  29.5   \n",
            "1    B          0.50                  33.0   \n",
            "2    C          0.75                  40.1   \n",
            "3    D          1.25                  45.4   \n",
            "4    E          1.50                  56.6   \n",
            "\n",
            "   Forward Additional Weight Slab Charge  RTO Fixed Charge  \\\n",
            "0                                   23.6              13.6   \n",
            "1                                   28.3              20.5   \n",
            "2                                   38.9              31.9   \n",
            "3                                   44.8              41.3   \n",
            "4                                   55.5              50.7   \n",
            "\n",
            "   RTO Additional Weight Slab Charge  \n",
            "0                               23.6  \n",
            "1                               28.3  \n",
            "2                               38.9  \n",
            "3                               44.8  \n",
            "4                               55.5  \n"
          ]
        }
      ],
      "source": [
        "order_report = pd.read_excel('/content/Company X - Order Report.xlsx')\n",
        "sku_master = pd.read_excel('/content/Company X - SKU Master.xlsx')\n",
        "pincode_mapping = pd.read_excel('/content/Company X - Pincode Zones.xlsx')\n",
        "courier_invoice = pd.read_excel('/content/Courier Company - Invoice.xlsx')\n",
        "courier_company_rates = pd.read_excel('Courier Company - Rates.xlsx')\n",
        "\n",
        "print(\"Order Report:\")\n",
        "print(order_report.head())\n",
        "print(\"\\nSKU Master:\")\n",
        "print(sku_master.head())\n",
        "print(\"\\nPincode Mapping:\")\n",
        "print(pincode_mapping.head())\n",
        "print(\"\\nCourier Invoice:\")\n",
        "print(courier_invoice.head())\n",
        "print(\"\\nCourier Company rates:\")\n",
        "print(courier_company_rates.head())\n"
      ]
    },
    {
      "cell_type": "code",
      "execution_count": null,
      "metadata": {
        "colab": {
          "base_uri": "https://localhost:8080/"
        },
        "id": "XwMlxW2_jYk2",
        "outputId": "ddc1356f-16f7-4c10-a54b-6c0acf7116f3"
      },
      "outputs": [
        {
          "output_type": "stream",
          "name": "stdout",
          "text": [
            "ExternOrderNo           0\n",
            "SKU                     0\n",
            "Order Qty               0\n",
            "Payment Mode            0\n",
            "Item Price(Per Qty.)    0\n",
            "dtype: int64\n",
            "SKU           0\n",
            "Weight (g)    0\n",
            "dtype: int64\n",
            "Warehouse Pincode    0\n",
            "Customer Pincode     0\n",
            "Zone                 0\n",
            "dtype: int64\n",
            "AWB Code                0\n",
            "Order ID                0\n",
            "Charged Weight          0\n",
            "Warehouse Pincode       0\n",
            "Customer Pincode        0\n",
            "Zone                    0\n",
            "Type of Shipment        0\n",
            "Billing Amount (Rs.)    0\n",
            "dtype: int64\n",
            "Zone                                     0\n",
            "Weight Slabs                             0\n",
            "Forward Fixed Charge                     0\n",
            "Forward Additional Weight Slab Charge    0\n",
            "RTO Fixed Charge                         0\n",
            "RTO Additional Weight Slab Charge        0\n",
            "dtype: int64\n"
          ]
        }
      ],
      "source": [
        "print(order_report.isnull().sum())\n",
        "print(sku_master.isnull().sum())\n",
        "print(pincode_mapping.isnull().sum())\n",
        "print(courier_invoice.isnull().sum())\n",
        "print(courier_company_rates.isnull().sum())"
      ]
    },
    {
      "cell_type": "code",
      "execution_count": null,
      "metadata": {
        "colab": {
          "base_uri": "https://localhost:8080/"
        },
        "id": "OnnA14f8nIWt",
        "outputId": "5178b715-1241-469c-d507-236005ceb55c"
      },
      "outputs": [
        {
          "output_type": "stream",
          "name": "stdout",
          "text": [
            "   ExternOrderNo            SKU  Order Qty Payment Mode  Item Price(Per Qty.)  \\\n",
            "0     2001827036  8904223818706          1          COD                   233   \n",
            "1     2001821995  8904223818706          1      Prepaid                   233   \n",
            "2     2001819252  8904223818706          1      Prepaid                   233   \n",
            "3     2001816996  8904223818706          1      Prepaid                   233   \n",
            "4     2001814580  8904223818706          1          COD                   233   \n",
            "\n",
            "   Weight (g)  \n",
            "0         127  \n",
            "1         127  \n",
            "2         127  \n",
            "3         127  \n",
            "4         127  \n"
          ]
        }
      ],
      "source": [
        "merged_data = pd.merge(order_report, sku_master, on='SKU')\n",
        "print(merged_data.head())"
      ]
    },
    {
      "cell_type": "code",
      "execution_count": null,
      "metadata": {
        "id": "cMHL7zGgnq29"
      },
      "outputs": [],
      "source": [
        "merged_data = merged_data.rename(columns={'ExternOrderNo': 'Order ID'})"
      ]
    },
    {
      "cell_type": "code",
      "execution_count": null,
      "metadata": {
        "colab": {
          "base_uri": "https://localhost:8080/"
        },
        "id": "yk9yz-ptnv2I",
        "outputId": "172d0390-999a-497b-d873-5dcab9fef189"
      },
      "outputs": [
        {
          "output_type": "stream",
          "name": "stdout",
          "text": [
            "     Order ID  Customer Pincode Type of Shipment  Warehouse Pincode Zone\n",
            "0  2001806232            507101  Forward charges             121003    d\n",
            "1  2001806273            486886  Forward charges             121003    d\n",
            "2  2001806408            532484  Forward charges             121003    d\n",
            "3  2001806458            143001  Forward charges             121003    b\n",
            "4  2001807012            515591  Forward charges             121003    d\n"
          ]
        }
      ],
      "source": [
        "abc_courier = pincode_mapping.drop_duplicates(subset=['Customer Pincode'])\n",
        "courier_abc= courier_invoice[['Order ID', 'Customer Pincode','Type of Shipment']]\n",
        "pincodes= courier_abc.merge(abc_courier,on='Customer Pincode')\n",
        "print(pincodes.head())"
      ]
    },
    {
      "cell_type": "code",
      "execution_count": null,
      "metadata": {
        "id": "Vom5orFDn3hv"
      },
      "outputs": [],
      "source": [
        "merged2 = merged_data.merge(pincodes, on='Order ID')\n",
        "merged2['Weights (Kgs)'] = merged2['Weight (g)'] / 1000"
      ]
    },
    {
      "cell_type": "code",
      "execution_count": null,
      "metadata": {
        "id": "2WoZF7ZioLLq"
      },
      "outputs": [],
      "source": [
        "def weight_slab(weight):\n",
        "    i = round(weight % 1, 1)\n",
        "    if i == 0.0:\n",
        "        return weight\n",
        "    elif i > 0.5:\n",
        "        return int(weight) + 1.0\n",
        "    else:\n",
        "        return int(weight) + 0.5\n",
        "\n",
        "merged2['Weight Slab (KG)'] = merged2['Weights (Kgs)'].apply(weight_slab)\n",
        "courier_invoice['Weight Slab Charged by Courier Company']=(courier_invoice['Charged Weight']).apply(weight_slab)"
      ]
    },
    {
      "cell_type": "code",
      "execution_count": null,
      "metadata": {
        "colab": {
          "base_uri": "https://localhost:8080/",
          "height": 225
        },
        "id": "32KwGg-joQeL",
        "outputId": "d71b759b-6907-4cef-e8c3-1898cd9bd67d"
      },
      "outputs": [
        {
          "output_type": "execute_result",
          "data": {
            "text/plain": [
              "     Order ID            SKU  Order Qty Payment Mode  Item Price(Per Qty.)  \\\n",
              "0  2001827036  8904223818706          1          COD                   233   \n",
              "1  2001827036  8904223819093          1          COD                   233   \n",
              "\n",
              "   Weight (g)  Customer Pincode Type of Shipment  Warehouse Pincode  \\\n",
              "0         127            173213  Forward charges             121003   \n",
              "1         150            173213  Forward charges             121003   \n",
              "\n",
              "  Delivery Zone As Per ABC  Weights (Kgs)  Weight Slab As Per ABC  \n",
              "0                        e          0.127                     0.5  \n",
              "1                        e          0.150                     0.5  "
            ],
            "text/html": [
              "\n",
              "\n",
              "  <div id=\"df-eac5309b-049d-46d0-ad26-d4e15c098507\">\n",
              "    <div class=\"colab-df-container\">\n",
              "      <div>\n",
              "<style scoped>\n",
              "    .dataframe tbody tr th:only-of-type {\n",
              "        vertical-align: middle;\n",
              "    }\n",
              "\n",
              "    .dataframe tbody tr th {\n",
              "        vertical-align: top;\n",
              "    }\n",
              "\n",
              "    .dataframe thead th {\n",
              "        text-align: right;\n",
              "    }\n",
              "</style>\n",
              "<table border=\"1\" class=\"dataframe\">\n",
              "  <thead>\n",
              "    <tr style=\"text-align: right;\">\n",
              "      <th></th>\n",
              "      <th>Order ID</th>\n",
              "      <th>SKU</th>\n",
              "      <th>Order Qty</th>\n",
              "      <th>Payment Mode</th>\n",
              "      <th>Item Price(Per Qty.)</th>\n",
              "      <th>Weight (g)</th>\n",
              "      <th>Customer Pincode</th>\n",
              "      <th>Type of Shipment</th>\n",
              "      <th>Warehouse Pincode</th>\n",
              "      <th>Delivery Zone As Per ABC</th>\n",
              "      <th>Weights (Kgs)</th>\n",
              "      <th>Weight Slab As Per ABC</th>\n",
              "    </tr>\n",
              "  </thead>\n",
              "  <tbody>\n",
              "    <tr>\n",
              "      <th>0</th>\n",
              "      <td>2001827036</td>\n",
              "      <td>8904223818706</td>\n",
              "      <td>1</td>\n",
              "      <td>COD</td>\n",
              "      <td>233</td>\n",
              "      <td>127</td>\n",
              "      <td>173213</td>\n",
              "      <td>Forward charges</td>\n",
              "      <td>121003</td>\n",
              "      <td>e</td>\n",
              "      <td>0.127</td>\n",
              "      <td>0.5</td>\n",
              "    </tr>\n",
              "    <tr>\n",
              "      <th>1</th>\n",
              "      <td>2001827036</td>\n",
              "      <td>8904223819093</td>\n",
              "      <td>1</td>\n",
              "      <td>COD</td>\n",
              "      <td>233</td>\n",
              "      <td>150</td>\n",
              "      <td>173213</td>\n",
              "      <td>Forward charges</td>\n",
              "      <td>121003</td>\n",
              "      <td>e</td>\n",
              "      <td>0.150</td>\n",
              "      <td>0.5</td>\n",
              "    </tr>\n",
              "  </tbody>\n",
              "</table>\n",
              "</div>\n",
              "      <button class=\"colab-df-convert\" onclick=\"convertToInteractive('df-eac5309b-049d-46d0-ad26-d4e15c098507')\"\n",
              "              title=\"Convert this dataframe to an interactive table.\"\n",
              "              style=\"display:none;\">\n",
              "\n",
              "  <svg xmlns=\"http://www.w3.org/2000/svg\" height=\"24px\"viewBox=\"0 0 24 24\"\n",
              "       width=\"24px\">\n",
              "    <path d=\"M0 0h24v24H0V0z\" fill=\"none\"/>\n",
              "    <path d=\"M18.56 5.44l.94 2.06.94-2.06 2.06-.94-2.06-.94-.94-2.06-.94 2.06-2.06.94zm-11 1L8.5 8.5l.94-2.06 2.06-.94-2.06-.94L8.5 2.5l-.94 2.06-2.06.94zm10 10l.94 2.06.94-2.06 2.06-.94-2.06-.94-.94-2.06-.94 2.06-2.06.94z\"/><path d=\"M17.41 7.96l-1.37-1.37c-.4-.4-.92-.59-1.43-.59-.52 0-1.04.2-1.43.59L10.3 9.45l-7.72 7.72c-.78.78-.78 2.05 0 2.83L4 21.41c.39.39.9.59 1.41.59.51 0 1.02-.2 1.41-.59l7.78-7.78 2.81-2.81c.8-.78.8-2.07 0-2.86zM5.41 20L4 18.59l7.72-7.72 1.47 1.35L5.41 20z\"/>\n",
              "  </svg>\n",
              "      </button>\n",
              "\n",
              "\n",
              "\n",
              "    <div id=\"df-6b770f12-7859-40aa-9bf8-4c2a444a1670\">\n",
              "      <button class=\"colab-df-quickchart\" onclick=\"quickchart('df-6b770f12-7859-40aa-9bf8-4c2a444a1670')\"\n",
              "              title=\"Suggest charts.\"\n",
              "              style=\"display:none;\">\n",
              "\n",
              "<svg xmlns=\"http://www.w3.org/2000/svg\" height=\"24px\"viewBox=\"0 0 24 24\"\n",
              "     width=\"24px\">\n",
              "    <g>\n",
              "        <path d=\"M19 3H5c-1.1 0-2 .9-2 2v14c0 1.1.9 2 2 2h14c1.1 0 2-.9 2-2V5c0-1.1-.9-2-2-2zM9 17H7v-7h2v7zm4 0h-2V7h2v10zm4 0h-2v-4h2v4z\"/>\n",
              "    </g>\n",
              "</svg>\n",
              "      </button>\n",
              "    </div>\n",
              "\n",
              "<style>\n",
              "  .colab-df-quickchart {\n",
              "    background-color: #E8F0FE;\n",
              "    border: none;\n",
              "    border-radius: 50%;\n",
              "    cursor: pointer;\n",
              "    display: none;\n",
              "    fill: #1967D2;\n",
              "    height: 32px;\n",
              "    padding: 0 0 0 0;\n",
              "    width: 32px;\n",
              "  }\n",
              "\n",
              "  .colab-df-quickchart:hover {\n",
              "    background-color: #E2EBFA;\n",
              "    box-shadow: 0px 1px 2px rgba(60, 64, 67, 0.3), 0px 1px 3px 1px rgba(60, 64, 67, 0.15);\n",
              "    fill: #174EA6;\n",
              "  }\n",
              "\n",
              "  [theme=dark] .colab-df-quickchart {\n",
              "    background-color: #3B4455;\n",
              "    fill: #D2E3FC;\n",
              "  }\n",
              "\n",
              "  [theme=dark] .colab-df-quickchart:hover {\n",
              "    background-color: #434B5C;\n",
              "    box-shadow: 0px 1px 3px 1px rgba(0, 0, 0, 0.15);\n",
              "    filter: drop-shadow(0px 1px 2px rgba(0, 0, 0, 0.3));\n",
              "    fill: #FFFFFF;\n",
              "  }\n",
              "</style>\n",
              "\n",
              "    <script>\n",
              "      async function quickchart(key) {\n",
              "        const containerElement = document.querySelector('#' + key);\n",
              "        const charts = await google.colab.kernel.invokeFunction(\n",
              "            'suggestCharts', [key], {});\n",
              "      }\n",
              "    </script>\n",
              "\n",
              "      <script>\n",
              "\n",
              "function displayQuickchartButton(domScope) {\n",
              "  let quickchartButtonEl =\n",
              "    domScope.querySelector('#df-6b770f12-7859-40aa-9bf8-4c2a444a1670 button.colab-df-quickchart');\n",
              "  quickchartButtonEl.style.display =\n",
              "    google.colab.kernel.accessAllowed ? 'block' : 'none';\n",
              "}\n",
              "\n",
              "        displayQuickchartButton(document);\n",
              "      </script>\n",
              "      <style>\n",
              "    .colab-df-container {\n",
              "      display:flex;\n",
              "      flex-wrap:wrap;\n",
              "      gap: 12px;\n",
              "    }\n",
              "\n",
              "    .colab-df-convert {\n",
              "      background-color: #E8F0FE;\n",
              "      border: none;\n",
              "      border-radius: 50%;\n",
              "      cursor: pointer;\n",
              "      display: none;\n",
              "      fill: #1967D2;\n",
              "      height: 32px;\n",
              "      padding: 0 0 0 0;\n",
              "      width: 32px;\n",
              "    }\n",
              "\n",
              "    .colab-df-convert:hover {\n",
              "      background-color: #E2EBFA;\n",
              "      box-shadow: 0px 1px 2px rgba(60, 64, 67, 0.3), 0px 1px 3px 1px rgba(60, 64, 67, 0.15);\n",
              "      fill: #174EA6;\n",
              "    }\n",
              "\n",
              "    [theme=dark] .colab-df-convert {\n",
              "      background-color: #3B4455;\n",
              "      fill: #D2E3FC;\n",
              "    }\n",
              "\n",
              "    [theme=dark] .colab-df-convert:hover {\n",
              "      background-color: #434B5C;\n",
              "      box-shadow: 0px 1px 3px 1px rgba(0, 0, 0, 0.15);\n",
              "      filter: drop-shadow(0px 1px 2px rgba(0, 0, 0, 0.3));\n",
              "      fill: #FFFFFF;\n",
              "    }\n",
              "  </style>\n",
              "\n",
              "      <script>\n",
              "        const buttonEl =\n",
              "          document.querySelector('#df-eac5309b-049d-46d0-ad26-d4e15c098507 button.colab-df-convert');\n",
              "        buttonEl.style.display =\n",
              "          google.colab.kernel.accessAllowed ? 'block' : 'none';\n",
              "\n",
              "        async function convertToInteractive(key) {\n",
              "          const element = document.querySelector('#df-eac5309b-049d-46d0-ad26-d4e15c098507');\n",
              "          const dataTable =\n",
              "            await google.colab.kernel.invokeFunction('convertToInteractive',\n",
              "                                                     [key], {});\n",
              "          if (!dataTable) return;\n",
              "\n",
              "          const docLinkHtml = 'Like what you see? Visit the ' +\n",
              "            '<a target=\"_blank\" href=https://colab.research.google.com/notebooks/data_table.ipynb>data table notebook</a>'\n",
              "            + ' to learn more about interactive tables.';\n",
              "          element.innerHTML = '';\n",
              "          dataTable['output_type'] = 'display_data';\n",
              "          await google.colab.output.renderOutput(dataTable, element);\n",
              "          const docLink = document.createElement('div');\n",
              "          docLink.innerHTML = docLinkHtml;\n",
              "          element.appendChild(docLink);\n",
              "        }\n",
              "      </script>\n",
              "    </div>\n",
              "  </div>\n"
            ]
          },
          "metadata": {},
          "execution_count": 15
        }
      ],
      "source": [
        "courier_invoice = courier_invoice.rename(columns={'Zone': 'Delivery Zone Charged by Courier Company'})\n",
        "merged2 = merged2.rename(columns={'Zone': 'Delivery Zone As Per ABC'})\n",
        "merged2 = merged2.rename(columns={'Weight Slab (KG)': 'Weight Slab As Per ABC'})\n",
        "merged2.head(2)"
      ]
    },
    {
      "cell_type": "code",
      "execution_count": null,
      "metadata": {
        "colab": {
          "base_uri": "https://localhost:8080/"
        },
        "id": "IfT5onOjoeat",
        "outputId": "ff3ca4a6-bd1e-45b5-b3b8-5a3c08932c25"
      },
      "outputs": [
        {
          "output_type": "stream",
          "name": "stdout",
          "text": [
            "     Order ID            SKU  Order Qty Payment Mode  Item Price(Per Qty.)  \\\n",
            "0  2001827036  8904223818706          1          COD                   233   \n",
            "1  2001827036  8904223819093          1          COD                   233   \n",
            "2  2001827036  8904223819109          1          COD                   233   \n",
            "3  2001827036  8904223818430          1          COD                   470   \n",
            "4  2001827036  8904223819277          1          COD                   233   \n",
            "\n",
            "   Weight (g)  Customer Pincode Type of Shipment  Warehouse Pincode  \\\n",
            "0         127            173213  Forward charges             121003   \n",
            "1         150            173213  Forward charges             121003   \n",
            "2         100            173213  Forward charges             121003   \n",
            "3         165            173213  Forward charges             121003   \n",
            "4         350            173213  Forward charges             121003   \n",
            "\n",
            "  Delivery Zone As Per ABC  Weights (Kgs)  Weight Slab As Per ABC  \\\n",
            "0                        e          0.127                     0.5   \n",
            "1                        e          0.150                     0.5   \n",
            "2                        e          0.100                     0.5   \n",
            "3                        e          0.165                     0.5   \n",
            "4                        e          0.350                     0.5   \n",
            "\n",
            "   Expected Charge as per ABC  \n",
            "0                        56.6  \n",
            "1                        56.6  \n",
            "2                        56.6  \n",
            "3                        56.6  \n",
            "4                        56.6  \n"
          ]
        }
      ],
      "source": [
        "total_expected_charge = []\n",
        "for _, row in merged2.iterrows():\n",
        "  fwd_category = row['Delivery Zone As Per ABC']\n",
        "  rto_category = row['Delivery Zone As Per ABC']\n",
        "  weight_slab = row['Weight Slab As Per ABC']\n",
        "\n",
        "  for i in range(0,5):\n",
        "    dff=courier_company_rates.at[i,'Zone']\n",
        "    if dff==fwd_category.upper():\n",
        "\n",
        "      fwd_fixed = courier_company_rates.at[i, 'Forward Fixed Charge']\n",
        "      fwd_additional = courier_company_rates.at[i, 'Forward Additional Weight Slab Charge']\n",
        "      rto_fixed = courier_company_rates.at[i, 'RTO Fixed Charge']\n",
        "      rto_additional = courier_company_rates.at[i, 'RTO Additional Weight Slab Charge']\n",
        "      if row['Type of Shipment'] == 'Forward charges':\n",
        "        additional_weight = max(0, (weight_slab - 0.5) / 0.5)\n",
        "        total_expected_charge.append(fwd_fixed + additional_weight * fwd_additional)\n",
        "      elif row['Type of Shipment'] == 'Forward and RTO charges':\n",
        "        additional_weight = max(0, (weight_slab - 0.5) / 0.5)\n",
        "        total_expected_charge.append(fwd_fixed + additional_weight * (fwd_additional + rto_additional))\n",
        "      else:\n",
        "        total_expected_charge.append(0)\n",
        "\n",
        "merged2['Expected Charge as per ABC'] = total_expected_charge\n",
        "print(merged2.head())"
      ]
    },
    {
      "cell_type": "code",
      "execution_count": null,
      "metadata": {
        "colab": {
          "base_uri": "https://localhost:8080/"
        },
        "id": "NHk3QrtDoXtg",
        "outputId": "601a70ef-c9a6-4b0e-f737-c4e3babb77e7"
      },
      "outputs": [
        {
          "output_type": "stream",
          "name": "stdout",
          "text": [
            "     Order ID            SKU  Order Qty Payment Mode  Item Price(Per Qty.)  \\\n",
            "0  2001827036  8904223818706          1          COD                   233   \n",
            "1  2001827036  8904223819093          1          COD                   233   \n",
            "2  2001827036  8904223819109          1          COD                   233   \n",
            "3  2001827036  8904223818430          1          COD                   470   \n",
            "4  2001827036  8904223819277          1          COD                   233   \n",
            "\n",
            "   Weight (g)  Customer Pincode_x Type of Shipment_x  Warehouse Pincode_x  \\\n",
            "0         127              173213    Forward charges               121003   \n",
            "1         150              173213    Forward charges               121003   \n",
            "2         100              173213    Forward charges               121003   \n",
            "3         165              173213    Forward charges               121003   \n",
            "4         350              173213    Forward charges               121003   \n",
            "\n",
            "  Delivery Zone As Per ABC  ...  Weight Slab As Per ABC  \\\n",
            "0                        e  ...                     0.5   \n",
            "1                        e  ...                     0.5   \n",
            "2                        e  ...                     0.5   \n",
            "3                        e  ...                     0.5   \n",
            "4                        e  ...                     0.5   \n",
            "\n",
            "   Expected Charge as per ABC       AWB Code  Charged Weight  \\\n",
            "0                        56.6  1091122418320             1.6   \n",
            "1                        56.6  1091122418320             1.6   \n",
            "2                        56.6  1091122418320             1.6   \n",
            "3                        56.6  1091122418320             1.6   \n",
            "4                        56.6  1091122418320             1.6   \n",
            "\n",
            "   Warehouse Pincode_y  Customer Pincode_y  \\\n",
            "0               121003              173213   \n",
            "1               121003              173213   \n",
            "2               121003              173213   \n",
            "3               121003              173213   \n",
            "4               121003              173213   \n",
            "\n",
            "   Delivery Zone Charged by Courier Company Type of Shipment_y  \\\n",
            "0                                         b    Forward charges   \n",
            "1                                         b    Forward charges   \n",
            "2                                         b    Forward charges   \n",
            "3                                         b    Forward charges   \n",
            "4                                         b    Forward charges   \n",
            "\n",
            "  Billing Amount (Rs.)  Weight Slab Charged by Courier Company  \n",
            "0                117.9                                     2.0  \n",
            "1                117.9                                     2.0  \n",
            "2                117.9                                     2.0  \n",
            "3                117.9                                     2.0  \n",
            "4                117.9                                     2.0  \n",
            "\n",
            "[5 rows x 21 columns]\n"
          ]
        }
      ],
      "source": [
        "merged_output = merged2.merge(courier_invoice, on='Order ID')\n",
        "print(merged_output.head())"
      ]
    },
    {
      "cell_type": "code",
      "execution_count": null,
      "metadata": {
        "colab": {
          "base_uri": "https://localhost:8080/"
        },
        "id": "WH0oAS6Frdcj",
        "outputId": "1c5f26fc-5bee-4a20-cb86-01d21288619b"
      },
      "outputs": [
        {
          "output_type": "stream",
          "name": "stdout",
          "text": [
            "     Order ID  Difference (Rs.)  Expected Charge as per ABC\n",
            "0  2001827036              61.3                        56.6\n",
            "1  2001827036              61.3                        56.6\n",
            "2  2001827036              61.3                        56.6\n",
            "3  2001827036              61.3                        56.6\n",
            "4  2001827036              61.3                        56.6\n"
          ]
        }
      ],
      "source": [
        "df_diff = merged_output\n",
        "df_diff['Difference (Rs.)'] = df_diff['Billing Amount (Rs.)'] - df_diff['Expected Charge as per ABC']\n",
        "\n",
        "df_new = df_diff[['Order ID', 'Difference (Rs.)', 'Expected Charge as per ABC']]\n",
        "\n",
        "print(df_new.head())"
      ]
    },
    {
      "cell_type": "code",
      "execution_count": null,
      "metadata": {
        "colab": {
          "base_uri": "https://localhost:8080/"
        },
        "id": "2eDG7mw_rx0_",
        "outputId": "1fee1686-fea7-4cd6-adb3-74174159aa94"
      },
      "outputs": [
        {
          "output_type": "stream",
          "name": "stdout",
          "text": [
            "                                         Description  Count  Amount (Rs.)\n",
            "0  Total Orders where ABC has been correctly charged     12         507.6\n",
            "1        Total Orders where ABC has been overcharged    382       34704.5\n",
            "2       Total Orders where ABC has been undercharged      7        -109.2\n"
          ]
        }
      ],
      "source": [
        "# Calculate the total orders in each category\n",
        "total_correctly_charged = len(df_new[df_new['Difference (Rs.)'] == 0])\n",
        "total_overcharged = len(df_new[df_new['Difference (Rs.)'] > 0])\n",
        "total_undercharged = len(df_new[df_new['Difference (Rs.)'] < 0])\n",
        "\n",
        "# Calculate the total amount in each category\n",
        "amount_overcharged = abs(df_new[df_new['Difference (Rs.)'] > 0]['Difference (Rs.)'].sum())\n",
        "amount_undercharged = df_new[df_new['Difference (Rs.)'] < 0]['Difference (Rs.)'].sum()\n",
        "amount_correctly_charged = df_new[df_new['Difference (Rs.)'] == 0]['Expected Charge as per ABC'].sum()\n",
        "\n",
        "# Create a new DataFrame for the summary\n",
        "summary_data = {'Description': ['Total Orders where ABC has been correctly charged',\n",
        "                                'Total Orders where ABC has been overcharged',\n",
        "                                'Total Orders where ABC has been undercharged'],\n",
        "                'Count': [total_correctly_charged, total_overcharged, total_undercharged],\n",
        "                'Amount (Rs.)': [amount_correctly_charged, amount_overcharged, amount_undercharged]}\n",
        "\n",
        "df_summary = pd.DataFrame(summary_data)\n",
        "\n",
        "print(df_summary)"
      ]
    },
    {
      "cell_type": "code",
      "execution_count": null,
      "metadata": {
        "id": "FnQ24QyKtuNe"
      },
      "outputs": [],
      "source": [
        "with pd.ExcelWriter('final_result.xlsx', engine=\"openpyxl\") as writer:\n",
        "  df_summary.to_excel(writer, sheet_name='summary')\n",
        "  df_new.to_excel(writer, sheet_name='result')\n",
        "#writer.save('final_result.xlsx')"
      ]
    },
    {
      "cell_type": "code",
      "execution_count": null,
      "metadata": {
        "id": "6aJDMSKWuxGD"
      },
      "outputs": [],
      "source": []
    }
  ],
  "metadata": {
    "colab": {
      "provenance": [],
      "include_colab_link": true
    },
    "kernelspec": {
      "display_name": "Python 3",
      "name": "python3"
    },
    "language_info": {
      "name": "python"
    }
  },
  "nbformat": 4,
  "nbformat_minor": 0
}